import random

def dfs_number_guessing_game():
    # Player selects a number
    print("Think of a number between 1 and 100, and I (the AI) will try to guess it.")
    
    numbers = list(range(1, 101))  # Create a list of numbers from 1 to 100
    random.shuffle(numbers)  # Shuffle the list to randomize the starting point
    stack = numbers  # Use the shuffled list as a stack (DFS)
    attempts = 0

    # Loop until the AI guesses the number correctly
    while stack:
        guess = stack.pop()  # AI guesses the next number in the stack (LIFO)
        attempts += 1
        
        print(f"AI's guess is: {guess}")
        feedback = input("Enter 'h' if too high, 'l' if too low, or 'c' if correct: ").lower()

        if feedback == 'c':
            print(f"I (AI) guessed the number in {attempts} attempts!")
            return
        elif feedback == 'h':
            stack = [x for x in stack if x < guess]  # Filter out numbers higher than the guess
        elif feedback == 'l':
            stack = [x for x in stack if x > guess]  # Filter out numbers lower than the guess
    
    print("Something went wrong!")

# Run the DFS version with a random starting guess
dfs_number_guessing_game()
